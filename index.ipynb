{
 "cells": [
  {
   "cell_type": "markdown",
   "metadata": {},
   "source": [
    "# Hyperparameter Tuning and Pruning in Decision Trees - Lab\n",
    "\n",
    "## Introduction\n",
    "\n",
    "In this lab you will use the titanic dataset to see the impact of tree pruning and hyperparameter tuning on the predictive performance of a decision tree classifier. Pruning reduces the size of decision trees by removing nodes of the tree that do not provide much predictive power to classify instances. Decision trees are the most susceptible out of all the machine learning algorithms to overfitting and effective pruning can reduce this likelihood. \n",
    "\n",
    "## Objectives\n",
    "\n",
    "In this lab you will: \n",
    "\n",
    "- Determine the optimal hyperparameters for a decision tree model and evaluate performance "
   ]
  },
  {
   "cell_type": "markdown",
   "metadata": {},
   "source": [
    "## Import necessary libraries\n",
    "\n",
    "Let's first import the libraries you would need for this lab. "
   ]
  },
  {
   "cell_type": "code",
   "execution_count": 1,
   "metadata": {},
   "outputs": [],
   "source": [
    "import numpy as np\n",
    "import pandas as pd\n",
    "import matplotlib as mpl\n",
    "import matplotlib.pyplot as plt\n",
    "from sklearn.model_selection import train_test_split\n",
    "from sklearn.tree import DecisionTreeClassifier\n",
    "from sklearn.metrics import roc_curve, auc\n",
    "plt.style.use('seaborn')"
   ]
  },
  {
   "cell_type": "markdown",
   "metadata": {},
   "source": [
    "## Import the data\n",
    "\n",
    "The titanic dataset, available in `'titanic.csv'`, is all cleaned up and pre-processed for you, so that you can focus on pruning and optimization. Import the dataset and print the first five rows of the data: "
   ]
  },
  {
   "cell_type": "code",
   "execution_count": 3,
   "metadata": {},
   "outputs": [
    {
     "data": {
      "text/html": [
       "<div>\n",
       "<style scoped>\n",
       "    .dataframe tbody tr th:only-of-type {\n",
       "        vertical-align: middle;\n",
       "    }\n",
       "\n",
       "    .dataframe tbody tr th {\n",
       "        vertical-align: top;\n",
       "    }\n",
       "\n",
       "    .dataframe thead th {\n",
       "        text-align: right;\n",
       "    }\n",
       "</style>\n",
       "<table border=\"1\" class=\"dataframe\">\n",
       "  <thead>\n",
       "    <tr style=\"text-align: right;\">\n",
       "      <th></th>\n",
       "      <th>PassengerId</th>\n",
       "      <th>Age</th>\n",
       "      <th>SibSp</th>\n",
       "      <th>Parch</th>\n",
       "      <th>Fare</th>\n",
       "      <th>Pclass_1</th>\n",
       "      <th>Pclass_2</th>\n",
       "      <th>Pclass_3</th>\n",
       "      <th>Sex_female</th>\n",
       "      <th>Sex_male</th>\n",
       "      <th>Embarked_C</th>\n",
       "      <th>Embarked_Q</th>\n",
       "      <th>Embarked_S</th>\n",
       "      <th>Survived</th>\n",
       "    </tr>\n",
       "  </thead>\n",
       "  <tbody>\n",
       "    <tr>\n",
       "      <th>0</th>\n",
       "      <td>1</td>\n",
       "      <td>22.0</td>\n",
       "      <td>1</td>\n",
       "      <td>0</td>\n",
       "      <td>7.2500</td>\n",
       "      <td>0</td>\n",
       "      <td>0</td>\n",
       "      <td>1</td>\n",
       "      <td>0</td>\n",
       "      <td>1</td>\n",
       "      <td>0</td>\n",
       "      <td>0</td>\n",
       "      <td>1</td>\n",
       "      <td>0</td>\n",
       "    </tr>\n",
       "    <tr>\n",
       "      <th>1</th>\n",
       "      <td>2</td>\n",
       "      <td>38.0</td>\n",
       "      <td>1</td>\n",
       "      <td>0</td>\n",
       "      <td>71.2833</td>\n",
       "      <td>1</td>\n",
       "      <td>0</td>\n",
       "      <td>0</td>\n",
       "      <td>1</td>\n",
       "      <td>0</td>\n",
       "      <td>1</td>\n",
       "      <td>0</td>\n",
       "      <td>0</td>\n",
       "      <td>1</td>\n",
       "    </tr>\n",
       "    <tr>\n",
       "      <th>2</th>\n",
       "      <td>3</td>\n",
       "      <td>26.0</td>\n",
       "      <td>0</td>\n",
       "      <td>0</td>\n",
       "      <td>7.9250</td>\n",
       "      <td>0</td>\n",
       "      <td>0</td>\n",
       "      <td>1</td>\n",
       "      <td>1</td>\n",
       "      <td>0</td>\n",
       "      <td>0</td>\n",
       "      <td>0</td>\n",
       "      <td>1</td>\n",
       "      <td>1</td>\n",
       "    </tr>\n",
       "    <tr>\n",
       "      <th>3</th>\n",
       "      <td>4</td>\n",
       "      <td>35.0</td>\n",
       "      <td>1</td>\n",
       "      <td>0</td>\n",
       "      <td>53.1000</td>\n",
       "      <td>1</td>\n",
       "      <td>0</td>\n",
       "      <td>0</td>\n",
       "      <td>1</td>\n",
       "      <td>0</td>\n",
       "      <td>0</td>\n",
       "      <td>0</td>\n",
       "      <td>1</td>\n",
       "      <td>1</td>\n",
       "    </tr>\n",
       "    <tr>\n",
       "      <th>4</th>\n",
       "      <td>5</td>\n",
       "      <td>35.0</td>\n",
       "      <td>0</td>\n",
       "      <td>0</td>\n",
       "      <td>8.0500</td>\n",
       "      <td>0</td>\n",
       "      <td>0</td>\n",
       "      <td>1</td>\n",
       "      <td>0</td>\n",
       "      <td>1</td>\n",
       "      <td>0</td>\n",
       "      <td>0</td>\n",
       "      <td>1</td>\n",
       "      <td>0</td>\n",
       "    </tr>\n",
       "  </tbody>\n",
       "</table>\n",
       "</div>"
      ],
      "text/plain": [
       "   PassengerId   Age  SibSp  Parch     Fare  Pclass_1  Pclass_2  Pclass_3  \\\n",
       "0            1  22.0      1      0   7.2500         0         0         1   \n",
       "1            2  38.0      1      0  71.2833         1         0         0   \n",
       "2            3  26.0      0      0   7.9250         0         0         1   \n",
       "3            4  35.0      1      0  53.1000         1         0         0   \n",
       "4            5  35.0      0      0   8.0500         0         0         1   \n",
       "\n",
       "   Sex_female  Sex_male  Embarked_C  Embarked_Q  Embarked_S  Survived  \n",
       "0           0         1           0           0           1         0  \n",
       "1           1         0           1           0           0         1  \n",
       "2           1         0           0           0           1         1  \n",
       "3           1         0           0           0           1         1  \n",
       "4           0         1           0           0           1         0  "
      ]
     },
     "execution_count": 3,
     "metadata": {},
     "output_type": "execute_result"
    }
   ],
   "source": [
    "# Import the data\n",
    "df = pd.read_csv('titanic.csv')\n",
    "\n",
    "df.head()\n"
   ]
  },
  {
   "cell_type": "markdown",
   "metadata": {},
   "source": [
    "## Create training and test sets\n",
    "\n",
    "- Assign the `'Survived'` column to `y` \n",
    "- Drop the `'Survived'` and `'PassengerId'` columns from `df`, and assign the resulting DataFrame to `X` \n",
    "- Split `X` and `y` into training and test sets. Assign 30% to the test set and set the `random_state` to `SEED` "
   ]
  },
  {
   "cell_type": "code",
   "execution_count": 4,
   "metadata": {},
   "outputs": [],
   "source": [
    "# Create X and y \n",
    "y = df.Survived\n",
    "X = df.drop(['Survived', 'PassengerId'], axis=1)\n",
    "\n",
    "# Split into training and test sets\n",
    "SEED = 1\n",
    "X_train, X_test, y_train, y_test = train_test_split(X, y, test_size=0.30, random_state=SEED)"
   ]
  },
  {
   "cell_type": "markdown",
   "metadata": {},
   "source": [
    "## Train a vanilla classifier\n",
    "\n",
    "__Note:__ The term \"vanilla\" is used for a machine learning algorithm with its default settings (no tweaking/tuning).\n",
    "\n",
    "- Instantiate a decision tree \n",
    "  - Use the `'entropy'` criterion and set the `random_state` to `SEED` \n",
    "- Fit this classifier to the training data "
   ]
  },
  {
   "cell_type": "code",
   "execution_count": 35,
   "metadata": {},
   "outputs": [
    {
     "data": {
      "text/plain": [
       "DecisionTreeClassifier(class_weight=None, criterion='entropy', max_depth=None,\n",
       "                       max_features=None, max_leaf_nodes=None,\n",
       "                       min_impurity_decrease=0.0, min_impurity_split=None,\n",
       "                       min_samples_leaf=1, min_samples_split=2,\n",
       "                       min_weight_fraction_leaf=0.0, presort=False,\n",
       "                       random_state=1, splitter='best')"
      ]
     },
     "execution_count": 35,
     "metadata": {},
     "output_type": "execute_result"
    }
   ],
   "source": [
    "# Train the classifier using training data\n",
    "vanilla_dt = DecisionTreeClassifier(criterion='entropy', random_state=SEED)\n",
    "vanilla_dt.fit(X_train, y_train)"
   ]
  },
  {
   "cell_type": "markdown",
   "metadata": {},
   "source": [
    "## Make predictions \n",
    "- Create a set of predictions using the test set \n",
    "- Using `y_test` and `y_pred`, calculate the AUC (Area under curve) to check the predictive performance"
   ]
  },
  {
   "cell_type": "code",
   "execution_count": 36,
   "metadata": {},
   "outputs": [
    {
     "data": {
      "text/plain": [
       "0.7367718101733446"
      ]
     },
     "execution_count": 36,
     "metadata": {},
     "output_type": "execute_result"
    }
   ],
   "source": [
    "# Make predictions using test set \n",
    "y_pred = dt.predict(X_test)\n",
    "\n",
    "# Check the AUC of predictions\n",
    "false_positive_rate, true_positive_rate, thresholds = roc_curve(y_test, y_pred)\n",
    "vanilla_roc_auc = auc(false_positive_rate, true_positive_rate)\n",
    "vanilla_roc_auc"
   ]
  },
  {
   "cell_type": "markdown",
   "metadata": {},
   "source": [
    "## Maximum Tree Depth\n",
    "\n",
    "Let's first check for the best depth parameter for our decision tree: \n",
    "\n",
    "- Create an array for `max_depth` values ranging from 1 - 32  \n",
    "- In a loop, train the classifier for each depth value (32 runs) \n",
    "- Calculate the training and test AUC for each run \n",
    "- Plot a graph to show under/over fitting and optimal value \n",
    "- Interpret the results "
   ]
  },
  {
   "cell_type": "code",
   "execution_count": 15,
   "metadata": {},
   "outputs": [
    {
     "name": "stdout",
     "output_type": "stream",
     "text": [
      "max depth 1 train auc:  0.78045321051929 test auc:  0.7389599317988065\n",
      "max depth 2 train auc:  0.7607962888799894 test auc:  0.7021028701335607\n",
      "max depth 3 train auc:  0.8180650113469499 test auc:  0.7477408354646207\n",
      "max depth 4 train auc:  0.8243781426600809 test auc:  0.7510088093208298\n",
      "max depth 5 train auc:  0.8375940016909179 test auc:  0.7520886615515772\n",
      "max depth 6 train auc:  0.8599152316112669 test auc:  0.7433930093776641\n",
      "max depth 7 train auc:  0.8734536999955502 test auc:  0.7651321398124469\n",
      "max depth 8 train auc:  0.8725414942375295 test auc:  0.7433930093776641\n",
      "max depth 9 train auc:  0.8970653673296846 test auc:  0.7412048877522024\n",
      "max depth 10 train auc:  0.9055811418146219 test auc:  0.7368570616652457\n",
      "max depth 11 train auc:  0.9213222533707115 test auc:  0.7575163398692811\n",
      "max depth 12 train auc:  0.9288701997953098 test auc:  0.7531400966183575\n",
      "max depth 13 train auc:  0.9380033818359809 test auc:  0.7455242966751917\n",
      "max depth 14 train auc:  0.9446113113513995 test auc:  0.7542199488491048\n",
      "max depth 15 train auc:  0.9546845103012503 test auc:  0.7552998010798522\n",
      "max depth 16 train auc:  0.9631724736350288 test auc:  0.7411480534242683\n",
      "max depth 17 train auc:  0.9723056556756997 test auc:  0.7433077578857629\n",
      "max depth 18 train auc:  0.9745082988475059 test auc:  0.7422279056550156\n",
      "max depth 19 train auc:  0.9767109420193122 test auc:  0.7454958795112248\n",
      "max depth 20 train auc:  0.9789135851911183 test auc:  0.7454958795112248\n",
      "max depth 21 train auc:  0.9820562452721042 test auc:  0.7324239840863881\n",
      "max depth 22 train auc:  0.9855215147065367 test auc:  0.7356919579425973\n",
      "max depth 23 train auc:  0.9855215147065367 test auc:  0.7356919579425973\n",
      "max depth 24 train auc:  0.9855215147065367 test auc:  0.7367718101733446\n",
      "max depth 25 train auc:  0.9855215147065367 test auc:  0.7367718101733446\n",
      "max depth 26 train auc:  0.9855215147065367 test auc:  0.7367718101733446\n",
      "max depth 27 train auc:  0.9855215147065367 test auc:  0.7367718101733446\n",
      "max depth 28 train auc:  0.9855215147065367 test auc:  0.7367718101733446\n",
      "max depth 29 train auc:  0.9855215147065367 test auc:  0.7367718101733446\n",
      "max depth 30 train auc:  0.9855215147065367 test auc:  0.7367718101733446\n",
      "max depth 31 train auc:  0.9855215147065367 test auc:  0.7367718101733446\n",
      "max depth 32 train auc:  0.9855215147065367 test auc:  0.7367718101733446\n"
     ]
    },
    {
     "data": {
      "image/png": "[encoded data removed]",
      "text/plain": [
       "<Figure size 432x288 with 1 Axes>"
      ]
     },
     "metadata": {
      "needs_background": "light"
     },
     "output_type": "display_data"
    }
   ],
   "source": [
    "# Identify the optimal tree depth for given data\n",
    "runs_depths = []\n",
    "runs_train_auc = []\n",
    "runs_test_auc = []\n",
    "max_depth = np.array(range(1,33))\n",
    "for depth in max_depth:\n",
    "    dt = DecisionTreeClassifier(criterion='entropy', random_state=SEED, max_depth = depth)\n",
    "    dt.fit(X_train, y_train)\n",
    "    fpr, tpr, thresh = roc_curve(y_train, dt.predict(X_train)) # train data\n",
    "    train_auc = auc(fpr, tpr)\n",
    "    fpr, tpr, thresh = roc_curve(y_test, dt.predict(X_test)) # test data\n",
    "    test_auc = auc(fpr, tpr)\n",
    "    print('max depth', depth, 'train auc: ', train_auc, 'test auc: ', test_auc)\n",
    "    runs_depths.append(depth)\n",
    "    runs_train_auc.append(train_auc)\n",
    "    runs_test_auc.append(test_auc)\n",
    "    \n",
    "plt.plot(runs_depths, runs_train_auc, label='training data')\n",
    "plt.plot(runs_depths, runs_test_auc, label='testing data')\n",
    "plt.xlabel('maximum depth')\n",
    "plt.ylabel('auc')\n",
    "plt.legend()\n",
    "plt.show()"
   ]
  },
  {
   "cell_type": "code",
   "execution_count": 16,
   "metadata": {},
   "outputs": [],
   "source": [
    "# You observations here \n",
    "# The results drop and then plateu. It apears 7 is the best max depth"
   ]
  },
  {
   "cell_type": "markdown",
   "metadata": {},
   "source": [
    "## Minimum Sample Split\n",
    "\n",
    "Now check for the best `min_samples_splits` parameter for our decision tree \n",
    "\n",
    "- Create an array for `min_sample_splits` values ranging from 0.1 - 1 with an increment of 0.1 \n",
    "- In a loop, train the classifier for each `min_samples_splits` value (10 runs) \n",
    "- Calculate the training and test AUC for each run \n",
    "- Plot a graph to show under/over fitting and optimal value \n",
    "- Interpret the results"
   ]
  },
  {
   "cell_type": "code",
   "execution_count": 22,
   "metadata": {},
   "outputs": [
    {
     "name": "stdout",
     "output_type": "stream",
     "text": [
      "min_sample_splits 0.1 train auc:  0.8243225203577627 test auc:  0.7335606706450697\n",
      "min_sample_splits 0.2 train auc:  0.7652015752236017 test auc:  0.7064506962205171\n",
      "min_sample_splits 0.3 train auc:  0.7652015752236017 test auc:  0.7064506962205171\n",
      "min_sample_splits 0.4 train auc:  0.8043318649045521 test auc:  0.7334754191531687\n",
      "min_sample_splits 0.5 train auc:  0.8043318649045521 test auc:  0.7334754191531687\n",
      "min_sample_splits 0.6 train auc:  0.8043318649045521 test auc:  0.7334754191531687\n",
      "min_sample_splits 0.7 train auc:  0.78045321051929 test auc:  0.7389599317988065\n",
      "min_sample_splits 0.8 train auc:  0.78045321051929 test auc:  0.7389599317988065\n",
      "min_sample_splits 0.9 train auc:  0.78045321051929 test auc:  0.7389599317988065\n",
      "min_sample_splits 1.0 train auc:  0.78045321051929 test auc:  0.7389599317988065\n"
     ]
    },
    {
     "data": {
      "image/png": "[encoded data removed]",
      "text/plain": [
       "<Figure size 432x288 with 1 Axes>"
      ]
     },
     "metadata": {
      "needs_background": "light"
     },
     "output_type": "display_data"
    }
   ],
   "source": [
    "# Identify the optimal min-samples-split for given data\n",
    "runs_min_sample_splits = []\n",
    "runs_train_auc = []\n",
    "runs_test_auc = []\n",
    "split_range = np.array([.1, .2, .3, .4, .5, .6, .7, .8, .9, 1])\n",
    "for i in split_range:\n",
    "    dt = DecisionTreeClassifier(criterion='entropy', random_state=SEED, min_samples_split = i)\n",
    "    dt.fit(X_train, y_train)\n",
    "    fpr, tpr, thresh = roc_curve(y_train, dt.predict(X_train)) # train data\n",
    "    train_auc = auc(fpr, tpr)\n",
    "    fpr, tpr, thresh = roc_curve(y_test, dt.predict(X_test)) # test data\n",
    "    test_auc = auc(fpr, tpr)\n",
    "    print('min_sample_splits', i, 'train auc: ', train_auc, 'test auc: ', test_auc)\n",
    "    runs_min_sample_splits.append(i)\n",
    "    runs_train_auc.append(train_auc)\n",
    "    runs_test_auc.append(test_auc)\n",
    "    \n",
    "plt.plot(runs_min_sample_splits, runs_train_auc, label='training data')\n",
    "plt.plot(runs_min_sample_splits, runs_test_auc, label='testing data')\n",
    "plt.xlabel('min sample splits')\n",
    "plt.ylabel('auc')\n",
    "plt.legend()\n",
    "plt.show()"
   ]
  },
  {
   "cell_type": "code",
   "execution_count": 23,
   "metadata": {},
   "outputs": [],
   "source": [
    "# Your observations here\n",
    "# a higher value in min_samples_split returns better results as we approach 0.8 and then it plateus"
   ]
  },
  {
   "cell_type": "markdown",
   "metadata": {},
   "source": [
    "## Minimum Sample Leafs\n",
    "\n",
    "Now check for the best `min_samples_leafs` parameter value for our decision tree \n",
    "\n",
    "- Create an array for `min_samples_leafs` values ranging from 0.1 - 0.5 with an increment of 0.1 \n",
    "- In a loop, train the classifier for each `min_samples_leafs` value (5 runs) \n",
    "- Calculate the training and test AUC for each run \n",
    "- Plot a graph to show under/over fitting and optimal value \n",
    "- Interpret the results"
   ]
  },
  {
   "cell_type": "code",
   "execution_count": 26,
   "metadata": {},
   "outputs": [
    {
     "name": "stdout",
     "output_type": "stream",
     "text": [
      "min_sample_leafs 0.1 train auc:  0.736917634494727 test auc:  0.7075873827791985\n",
      "min_sample_leafs 0.2 train auc:  0.78045321051929 test auc:  0.7389599317988065\n",
      "min_sample_leafs 0.3 train auc:  0.78045321051929 test auc:  0.7389599317988065\n",
      "min_sample_leafs 0.4 train auc:  0.6754160548213411 test auc:  0.6387325944870701\n",
      "min_sample_leafs 0.5 train auc:  0.5 test auc:  0.5\n"
     ]
    },
    {
     "data": {
      "image/png": "[encoded data removed]",
      "text/plain": [
       "<Figure size 432x288 with 1 Axes>"
      ]
     },
     "metadata": {
      "needs_background": "light"
     },
     "output_type": "display_data"
    }
   ],
   "source": [
    "# Calculate the optimal value for minimum sample leafs\n",
    "runs_min_sample_leafs = []\n",
    "runs_train_auc = []\n",
    "runs_test_auc = []\n",
    "min_sample_leafs = np.array([.1, .2, .3, .4, .5])\n",
    "for i in min_sample_leafs:\n",
    "    dt = DecisionTreeClassifier(criterion='entropy', random_state=SEED, min_samples_leaf = i)\n",
    "    dt.fit(X_train, y_train)\n",
    "    fpr, tpr, thresh = roc_curve(y_train, dt.predict(X_train)) # train data\n",
    "    train_auc = auc(fpr, tpr)\n",
    "    fpr, tpr, thresh = roc_curve(y_test, dt.predict(X_test)) # test data\n",
    "    test_auc = auc(fpr, tpr)\n",
    "    print('min_sample_leafs', i, 'train auc: ', train_auc, 'test auc: ', test_auc)\n",
    "    runs_min_sample_leafs.append(i)\n",
    "    runs_train_auc.append(train_auc)\n",
    "    runs_test_auc.append(test_auc)\n",
    "    \n",
    "plt.plot(runs_min_sample_leafs, runs_train_auc, label='training data')\n",
    "plt.plot(runs_min_sample_leafs, runs_test_auc, label='testing data')\n",
    "plt.xlabel('min sample leafs')\n",
    "plt.ylabel('auc')\n",
    "plt.legend()\n",
    "plt.show()"
   ]
  },
  {
   "cell_type": "code",
   "execution_count": 27,
   "metadata": {},
   "outputs": [],
   "source": [
    "# Your observations here \n",
    "# it appears the higher the min_samples_leaf parameter is the worse the results get. \n",
    "# I would say an optimum level is between 0.2 and 0.3"
   ]
  },
  {
   "cell_type": "markdown",
   "metadata": {},
   "source": [
    "## Maximum Features\n",
    "\n",
    "Now check for the best `max_features` parameter value for our decision tree \n",
    "\n",
    "- Create an array for `max_features` values ranging from 1 - 12 (1 features vs all)\n",
    "- In a loop, train the classifier for each `max_features` value (12 runs) \n",
    "- Calculate the training and test AUC for each run \n",
    "- Plot a graph to show under/over fitting and optimal value \n",
    "- Interpret the results"
   ]
  },
  {
   "cell_type": "code",
   "execution_count": 31,
   "metadata": {},
   "outputs": [
    {
     "name": "stdout",
     "output_type": "stream",
     "text": [
      "max_features 1 train auc:  0.9855215147065367 test auc:  0.7270247229326514\n",
      "max_features 2 train auc:  0.9855215147065367 test auc:  0.7421710713270816\n",
      "max_features 3 train auc:  0.9855215147065367 test auc:  0.7433077578857629\n",
      "max_features 4 train auc:  0.9855215147065367 test auc:  0.7465473145780052\n",
      "max_features 5 train auc:  0.9855215147065367 test auc:  0.7324524012503553\n",
      "max_features 6 train auc:  0.9855215147065367 test auc:  0.7476840011366865\n",
      "max_features 7 train auc:  0.9855215147065367 test auc:  0.7411196362603012\n",
      "max_features 8 train auc:  0.9855215147065367 test auc:  0.6965331059960216\n",
      "max_features 9 train auc:  0.9855215147065367 test auc:  0.7433077578857629\n",
      "max_features 10 train auc:  0.9855215147065367 test auc:  0.7411196362603012\n",
      "max_features 11 train auc:  0.9855215147065367 test auc:  0.7443876101165104\n",
      "max_features 12 train auc:  0.9855215147065367 test auc:  0.7367718101733446\n"
     ]
    },
    {
     "data": {
      "image/png": "[encoded data removed]",
      "text/plain": [
       "<Figure size 432x288 with 1 Axes>"
      ]
     },
     "metadata": {
      "needs_background": "light"
     },
     "output_type": "display_data"
    }
   ],
   "source": [
    "# Find the best value for optimal maximum feature size\n",
    "runs_max_features = []\n",
    "runs_train_auc = []\n",
    "runs_test_auc = []\n",
    "max_features = np.array(range(1, 13))\n",
    "for i in max_features:\n",
    "    dt = DecisionTreeClassifier(criterion='entropy', random_state=SEED, max_features = i)\n",
    "    dt.fit(X_train, y_train)\n",
    "    fpr, tpr, thresh = roc_curve(y_train, dt.predict(X_train)) # train data\n",
    "    train_auc = auc(fpr, tpr)\n",
    "    fpr, tpr, thresh = roc_curve(y_test, dt.predict(X_test)) # test data\n",
    "    test_auc = auc(fpr, tpr)\n",
    "    print('max_features', i, 'train auc: ', train_auc, 'test auc: ', test_auc)\n",
    "    runs_max_features.append(i)\n",
    "    runs_train_auc.append(train_auc)\n",
    "    runs_test_auc.append(test_auc)\n",
    "    \n",
    "plt.plot(runs_max_features, runs_train_auc, label='training data')\n",
    "plt.plot(runs_max_features, runs_test_auc, label='testing data')\n",
    "plt.xlabel('max features')\n",
    "plt.ylabel('auc')\n",
    "plt.legend()\n",
    "plt.show()"
   ]
  },
  {
   "cell_type": "code",
   "execution_count": 34,
   "metadata": {},
   "outputs": [],
   "source": [
    "# Your observations here\n",
    "# these results are hard to interpret, There appears to be no change in accuracy. \n",
    "# number 8 looks to be a bad number of features \\\n",
    "# 6 and 4 are the best"
   ]
  },
  {
   "cell_type": "markdown",
   "metadata": {},
   "source": [
    "## Re-train the classifier with chosen values\n",
    "\n",
    "So now we shall use the best values from each training phase above and feed it back to our classifier and see if have any improvement in predictive performance. \n",
    "\n",
    "- Train the classifier with optimal values identified \n",
    "- Compare the AUC with vanilla DT AUC \n",
    "- Interpret the results of comparison"
   ]
  },
  {
   "cell_type": "code",
   "execution_count": 40,
   "metadata": {},
   "outputs": [
    {
     "name": "stdout",
     "output_type": "stream",
     "text": [
      "tuned AUC 0.6387325944870701 Vanilla AUC 0.7367718101733446\n"
     ]
    }
   ],
   "source": [
    "# Train a classifier with optimal values identified above\n",
    "dt = DecisionTreeClassifier(criterion='entropy',\n",
    "                           random_state=SEED,\n",
    "                           max_depth=7,\n",
    "                           min_samples_split=1.0,\n",
    "                            min_samples_leaf= 0.3,\n",
    "                           max_features=6,)\n",
    "dt.fit(X_train, y_train)\n",
    "\n",
    "false_positive_rate, true_positive_rate, thresholds = roc_curve(y_test, dt.predict(X_test))\n",
    "roc_auc = auc(false_positive_rate, true_positive_rate)\n",
    "print('tuned AUC', roc_auc, 'Vanilla AUC', vanilla_roc_auc)"
   ]
  },
  {
   "cell_type": "code",
   "execution_count": 41,
   "metadata": {},
   "outputs": [],
   "source": [
    "# You observations here\n",
    "# the tuning lowered the auc in this instance"
   ]
  },
  {
   "cell_type": "markdown",
   "metadata": {},
   "source": [
    "In the next section, we shall talk about hyperparameter tuning using a technique called \"grid-search\" to make this process even more granular and decisive. "
   ]
  },
  {
   "cell_type": "markdown",
   "metadata": {},
   "source": [
    "## Summary \n",
    "\n",
    "In this lesson, we looked at tuning a decision tree classifier in order to avoid overfitting and increasing the generalization capabilities of the classifier. For the titanic dataset, we see that identifying optimal parameter values can result in some improvements towards predictions. This idea will be exploited further in upcoming lessons and labs. "
   ]
  }
 ],
 "metadata": {
  "kernelspec": {
   "display_name": "Python 3",
   "language": "python",
   "name": "python3"
  },
  "language_info": {
   "codemirror_mode": {
    "name": "ipython",
    "version": 3
   },
   "file_extension": ".py",
   "mimetype": "text/x-python",
   "name": "python",
   "nbconvert_exporter": "python",
   "pygments_lexer": "ipython3",
   "version": "3.7.3"
  }
 },
 "nbformat": 4,
 "nbformat_minor": 2
}
